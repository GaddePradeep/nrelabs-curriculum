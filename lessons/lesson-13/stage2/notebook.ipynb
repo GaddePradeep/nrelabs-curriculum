{
 "cells": [
  {
   "cell_type": "markdown",
   "metadata": {},
   "source": [
    "# Multi-Vendor Network Automation with NAPALM\n",
    "\n",
    "## Part 2 - NAPALM's Getter Functions\n",
    "\n",
    "> This lesson uses Jupyter notebooks to provide a guided experience with in-line, executable and editable code snippets. Read <a target=\"_blank\" href=\"/jupyterlessonguides.html\">here</a> for more details on how to interact with these."
   ]
  },
  {
   "cell_type": "markdown",
   "metadata": {},
   "source": [
    "In the previous lab, we briefly introduced NAPALM, and ended by using a function called `get_facts()` to retrieve a few basic facts about the device we connected to.\n",
    "\n",
    "In this lab, we'll build on this by using a few additional functions aimed at retrieving more detailed information about a specific part of the device's operational state or configuration.\n",
    "\n",
    "First, we need to re-run the code we executed in the previous lab, to re-establish connectivity for this lab:"
   ]
  },
  {
   "cell_type": "code",
   "execution_count": 1,
   "metadata": {},
   "outputs": [],
   "source": [
    "import napalm\n",
    "driver = napalm.get_network_driver(\"junos\")\n",
    "device = driver(hostname=\"vqfx1\", username=\"antidote\", password=\"antidotepassword\")\n",
    "device.open()"
   ]
  },
  {
   "cell_type": "markdown",
   "metadata": {},
   "source": [
    "There are a few useful additional functions of the `device` class that we'll explore here. First, we can retrieve a full list of interface details:"
   ]
  },
  {
   "cell_type": "code",
   "execution_count": 5,
   "metadata": {},
   "outputs": [],
   "source": [
    "interfaces = device.get_interfaces()\n",
    "print(interfaces)"
   ]
  },
  {
   "cell_type": "markdown",
   "metadata": {},
   "source": [
    "This goes beyond the simple list we saw in the previous example with `get_facts`, and includes additional details like the interface's MAC address, up/down status, and operating speed.\n",
    "\n",
    "You may also notice that the data returned is a dictionary, where the keys are the name of the interface, and the values are nested dictionaries that contain key/value pairs for the properties of that interface.\n",
    "\n",
    "We can use a standard Python loop to iterate over this dictionary and only print the up/down status in a human-friendly way:"
   ]
  },
  {
   "cell_type": "code",
   "execution_count": 8,
   "metadata": {},
   "outputs": [
    {
     "name": "stdout",
     "output_type": "stream",
     "text": [
      "Interface gr-0/0/0 is UP\n",
      "Interface .local. is UP\n",
      "Interface bme0 is UP\n",
      "Interface cbp0 is UP\n",
      "Interface dsc is UP\n",
      "Interface em0 is UP\n",
      "Interface em1 is UP\n",
      "Interface em2 is UP\n",
      "Interface em3 is UP\n",
      "Interface em4 is UP\n",
      "Interface em5 is UP\n",
      "Interface em6 is UP\n",
      "Interface em7 is UP\n",
      "Interface em8 is UP\n",
      "Interface em9 is UP\n",
      "Interface em10 is UP\n",
      "Interface esi is UP\n",
      "Interface gre is UP\n",
      "Interface ipip is UP\n",
      "Interface irb is UP\n",
      "Interface lo0 is UP\n",
      "Interface lsi is UP\n",
      "Interface mtun is UP\n",
      "Interface pimd is UP\n",
      "Interface pime is UP\n",
      "Interface pip0 is UP\n",
      "Interface tap is UP\n",
      "Interface vme is DOWN\n",
      "Interface vtep is UP\n",
      "Interface bme0.0 is UP\n",
      "Interface em0.0 is UP\n",
      "Interface em1.0 is UP\n",
      "Interface em2.32768 is UP\n",
      "Interface lo0.0 is UP\n",
      "Interface lo0.16385 is UP\n"
     ]
    }
   ],
   "source": [
    "for if_name, if_properties in interfaces.items():\n",
    "    if if_properties['is_up']:\n",
    "        print(\"Interface %s is UP\" % if_name)\n",
    "    else:\n",
    "        print(\"Interface %s is DOWN\" % if_name)"
   ]
  },
  {
   "cell_type": "markdown",
   "metadata": {},
   "source": [
    "Similarly, we can use the `get_interfaces_ip()` function to retrieve Layer 3 interface information:"
   ]
  },
  {
   "cell_type": "code",
   "execution_count": 9,
   "metadata": {},
   "outputs": [
    {
     "data": {
      "text/plain": [
       "{'bme0.0': {'ipv4': {'128.0.0.1': {'prefix_length': 2},\n",
       "   '128.0.0.4': {'prefix_length': 2},\n",
       "   '128.0.0.16': {'prefix_length': 2},\n",
       "   '128.0.0.63': {'prefix_length': 2}}},\n",
       " 'em0.0': {'ipv4': {'10.0.0.15': {'prefix_length': 24}}},\n",
       " 'em1.0': {'ipv4': {'10.31.0.11': {'prefix_length': 24}}},\n",
       " 'em2.32768': {'ipv4': {'192.168.1.2': {'prefix_length': 24}}},\n",
       " 'lo0.0': {'ipv6': {'fe80::5254:f:fcb1:f58d': {'prefix_length': 128}}}}"
      ]
     },
     "execution_count": 9,
     "metadata": {},
     "output_type": "execute_result"
    }
   ],
   "source": [
    "device.get_interfaces_ip()"
   ]
  },
  {
   "cell_type": "markdown",
   "metadata": {},
   "source": [
    "There are a number of additional functions, most of which are supported across numerous platforms. For more information, the [NAPALM documentation](https://napalm.readthedocs.io/en/latest/support/index.html#getters-support-matrix) contains a full list of getter functions and which platforms support each.\n",
    "\n",
    "Next, we'll cover the NAPALM CLI tool, and use it to execute some additional commands you may find useful when working with a multi-vendor environment."
   ]
  },
  {
   "cell_type": "code",
   "execution_count": null,
   "metadata": {},
   "outputs": [],
   "source": []
  }
 ],
 "metadata": {
  "kernelspec": {
   "display_name": "Python 3",
   "language": "python",
   "name": "python3"
  },
  "language_info": {
   "codemirror_mode": {
    "name": "ipython",
    "version": 3
   },
   "file_extension": ".py",
   "mimetype": "text/x-python",
   "name": "python",
   "nbconvert_exporter": "python",
   "pygments_lexer": "ipython3",
   "version": "3.6.6"
  }
 },
 "nbformat": 4,
 "nbformat_minor": 2
}
